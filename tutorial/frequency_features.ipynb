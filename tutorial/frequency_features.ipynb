{
 "cells": [
  {
   "cell_type": "markdown",
   "metadata": {},
   "source": [
    "# Frequency-Domain Blink Features\n",
    "This example computes frequency features on a mock signal and plots the PSD."
   ]
  },
  {
   "cell_type": "code",
   "metadata": {},
   "source": [
    "from unitest.fixtures.mock_ear_generation import _generate_refined_ear\n",
    "from pyear.frequency_domain import aggregate_frequency_domain_features\n",
    "import matplotlib.pyplot as plt\n",
    "\n",
    "blinks, sfreq, epoch_len, n_epochs = _generate_refined_ear()\n",
    "df = aggregate_frequency_domain_features(blinks, sfreq, n_epochs)\n",
    "df.head()"
   ],
   "execution_count": null,
   "outputs": []
  },
  {
   "cell_type": "code",
   "metadata": {},
   "source": [
    "plt.figure()\n",
    "plt.plot(df.index, df['broadband_power_0_5_2'])\n",
    "plt.xlabel('epoch')\n",
    "plt.ylabel('0.5-2 Hz power')"
   ],
   "execution_count": null,
   "outputs": []
  }
 ],
 "metadata": {
  "kernelspec": {
   "display_name": "Python 3",
   "language": "python",
   "name": "python3"
  },
  "language_info": {
   "name": "python",
   "pygments_lexer": "ipython3"
  }
 },
 "nbformat": 4,
 "nbformat_minor": 4
}
