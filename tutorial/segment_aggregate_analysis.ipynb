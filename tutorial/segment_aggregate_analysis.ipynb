{
 "cells": [
  {
   "cell_type": "markdown",
   "metadata": {},
   "source": [
    "# Segment-Level Aggregate Analysis\n",
    "\n",
    "This tutorial shows how to compute blink properties and signal features for each 30-second segment of a raw `.fif` file.\n",
    "Each code line is explained in comments so you can adapt the steps to your own data."
   ]
  },
  {
   "cell_type": "markdown",
   "metadata": {},
   "source": [
    "## Input and output overview\n",
    "\n",
    "This notebook expects a `mne.io.Raw` instance loaded from a FIF file. It produces several tables:\n",
    "- **blink_df**: blink events per segment with columns `seg_id`, `blink_id`, `start_blink`, `max_blink`, `end_blink`, `outer_start`, `outer_end`, `left_zero`, `right_zero`.\n",
    "- **blink_props**: properties for each blink derived from the raw signal.\n",
    "- **agg_props**: average of all numeric blink properties per segment.\n",
    "- **df_features**: frequency, energy and waveform features per segment.\n",
    "- **df_combined**: merge of `agg_props` with `df_features`.\n"
   ]
  },
  {
   "cell_type": "code",
   "execution_count": null,
   "metadata": {},
   "outputs": [],
   "source": [
    "from pathlib import Path  # filesystem path management\n",
    "import mne  # reading EEG/EOG/EAR data from .fif files\n",
    "import pandas as pd  # table handling\n",
    "\n",
    "# preprocessing helper: slices raw into 30 s segments and refines blink markers\n",
    "from pyear.utils.raw_preprocessing import prepare_refined_segments\n",
    "# build DataFrame of blinks from segments\n",
    "from pyear.blink_events import generate_blink_dataframe\n",
    "# per-blink property extraction\n",
    "from pyear.pyblinkers.segment_blink_properties import compute_segment_blink_properties\n",
    "# high level feature aggregation\n",
    "from pyear.pipeline import extract_features\n",
    "# time-domain energy and complexity metrics\n",
    "from pyear.energy_complexity import compute_time_domain_features\n",
    "# frequency-domain metrics for a single segment\n",
    "from pyear.frequency_domain.segment_features import compute_frequency_domain_features\n"
   ]
  },
  {
   "cell_type": "markdown",
   "metadata": {},
   "source": [
    "### Synthetic data for development\n",
    "\n",
    "The `unitest.fixtures` package includes helpers to generate a small mock recording and refined blink list."
   ]
  },
  {
   "cell_type": "code",
   "metadata": {},
   "execution_count": null,
   "outputs": [],
   "source": [
    "from unitest.fixtures.mock_raw_generation import generate_mock_raw\n",
    "from unitest.fixtures.mock_ear_generation import _generate_refined_ear\n",
    "\n",
    "# Create a Raw object with blink annotations\n",
    "synthetic_raw = generate_mock_raw()\n",
    "# Segments and refined blink annotations\n",
    "synthetic_segments, synthetic_refined = prepare_refined_segments(synthetic_raw, channel=\"EOG\")\n",
    "\n",
    "# Or directly obtain a refined blink list\n",
    "synthetic_blinks, syn_sfreq, syn_epoch_len, syn_n_epochs = _generate_refined_ear()"
   ]
  },
  {
   "cell_type": "markdown",
   "metadata": {},
   "source": [
    "## 1. Load the raw recording"
   ]
  },
  {
   "cell_type": "code",
   "execution_count": null,
   "metadata": {},
   "outputs": [],
   "source": [
    "fif_path = Path('path/to/your_file.fif')  # path to your .fif data\n",
    "raw = mne.io.read_raw_fif(fif_path, preload=False)  # read without loading all data into memory\n",
    "print(f'Sampling rate: {raw.info[\"sfreq\"]} Hz')  # display sampling frequency"
   ]
  },
  {
   "cell_type": "markdown",
   "metadata": {},
   "source": [
    "## 2. Segment the recording and refine blink annotations"
   ]
  },
  {
   "cell_type": "code",
   "execution_count": null,
   "metadata": {},
   "outputs": [],
   "source": [
    "segments, refined_blinks = prepare_refined_segments(raw, channel='EEG-E8')  # 30 s slices and refined blink timings\n",
    "print(f'Generated {len(segments)} segments')  # confirm segment count"
   ]
  },
  {
   "cell_type": "markdown",
   "metadata": {},
   "source": [
    "## 3. Build a blink table from the segments"
   ]
  },
  {
   "cell_type": "code",
   "execution_count": null,
   "metadata": {},
   "outputs": [],
   "source": [
    "blink_df = generate_blink_dataframe(segments, channel='EEG-E8')  # convert annotations to a DataFrame\n",
    "blink_df.head()  # preview"
   ]
  },
  {
   "cell_type": "markdown",
   "metadata": {},
   "source": [
    "`blink_df` columns:\n",
    "- `seg_id`: index of the segment.\n",
    "- `blink_id`: order of the blink in that segment.\n",
    "- `start_blink`, `max_blink`, `end_blink`: sample indices for start, peak and end.\n",
    "- `outer_start`, `outer_end`: search bounds used for detection.\n",
    "- `left_zero`, `right_zero`: zero-crossing frames."
   ]
  },
  {
   "cell_type": "markdown",
   "metadata": {},
   "source": [
    "## 4. Compute blink properties for each blink"
   ]
  },
  {
   "cell_type": "code",
   "execution_count": null,
   "metadata": {},
   "outputs": [],
   "source": [
    "params = {  # parameters used by the blink property extraction\n",
    "    'base_fraction': 0.5,\n",
    "    'shut_amp_fraction': 0.9,\n",
    "    'p_avr_threshold': 3,\n",
    "    'z_thresholds': [[0.9, 0.98], [2.0, 5.0]]\n",
    "}\n",
    "blink_props = compute_segment_blink_properties(\n",
    "    segments, blink_df, params, channel='EEG-E8', run_fit=False\n",
    ")  # one row per blink with many properties\n",
    "blink_props.head()"
   ]
  },
  {
   "cell_type": "markdown",
   "metadata": {},
   "source": [
    "`blink_props` adds features like `closing_time_base`, `reopening_time_base`, `time_shut_base`, `peak_time_blink` and `inter_blink_max_amp` for each blink."
   ]
  },
  {
   "cell_type": "markdown",
   "metadata": {},
   "source": [
    "## 5. Aggregate blink properties per segment"
   ]
  },
  {
   "cell_type": "code",
   "execution_count": null,
   "metadata": {},
   "outputs": [],
   "source": [
    "agg_props = (\n",
    "    blink_props.groupby('seg_id').mean(numeric_only=True)  # average across blinks\n",
    "    .add_suffix('_mean')\n",
    "    .reset_index()\n",
    ")\n",
    "agg_props.head()"
   ]
  },
  {
   "cell_type": "markdown",
   "metadata": {},
   "source": [
    "`agg_props` averages the numeric columns of `blink_props` for each `seg_id` and appends `_mean` to the names."
   ]
  },
  {
   "cell_type": "markdown",
   "metadata": {},
   "source": [
    "## 6. Extract aggregated features with the pipeline"
   ]
  },
  {
   "cell_type": "code",
   "execution_count": null,
   "metadata": {},
   "outputs": [],
   "source": [
    "sfreq = raw.info['sfreq']  # sampling frequency\n",
    "epoch_len = 30.0  # segment length\n",
    "n_epochs = len(segments)  # total segments\n",
    "selected = ['waveform', 'frequency', 'energy']  # feature groups to compute\n",
    "df_features = extract_features(\n",
    "    refined_blinks, sfreq, epoch_len, n_epochs,\n",
    "    features=selected, raw_segments=segments\n",
    ")  # DataFrame indexed by epoch\n",
    "df_features.head()"
   ]
  },
  {
   "cell_type": "markdown",
   "metadata": {},
   "source": [
    "`df_features` holds frequency, energy and waveform metrics indexed by the `epoch` column."
   ]
  },
  {
   "cell_type": "markdown",
   "metadata": {},
   "source": [
    "## 7. Combine blink properties with other features"
   ]
  },
  {
   "cell_type": "code",
   "execution_count": null,
   "metadata": {},
   "outputs": [],
   "source": [
    "df_combined = pd.merge(\n",
    "    df_features.reset_index(), agg_props,\n",
    "    left_on='epoch', right_on='seg_id', how='left'\n",
    ")  # join on segment index\n",
    "df_combined.head()"
   ]
  },
  {
   "cell_type": "markdown",
   "metadata": {},
   "source": [
    "`df_combined` merges `agg_props` with `df_features` so each row summarizes one segment."
   ]
  },
  {
   "cell_type": "markdown",
   "metadata": {},
   "source": [
    "## 8. Signal features for all EEG/EOG/EAR channels",
    "\n",
    "> **Warning**: make sure all channels are referenced consistently before comparisons."
   ]
  },
  {
   "cell_type": "code",
   "execution_count": null,
   "metadata": {},
   "outputs": [],
   "source": [
    "channels = [ch for ch in raw.ch_names if ch.startswith(('EEG', 'EOG', 'EAR'))]  # select channel types\n",
    "records = []  # container for results\n",
    "for ch in channels:  # iterate channels\n",
    "    for idx, seg in enumerate(segments):  # each segment\n",
    "        signal = seg.get_data(picks=ch)[0]  # 1D signal\n",
    "        time_feats = compute_time_domain_features(signal, sfreq)  # energy + complexity\n",
    "        freq_feats = compute_frequency_domain_features([], signal, sfreq)  # spectral metrics\n",
    "        record = {'channel': ch, 'segment_index': idx}  # base info\n",
    "        record.update(time_feats)\n",
    "        record.update(freq_feats)\n",
    "        records.append(record)\n",
    "df_segments = pd.DataFrame(records)  # final table\n",
    "df_segments.head()"
   ]
  },
  {
   "cell_type": "markdown",
   "metadata": {},
   "source": [
    "`df_segments` lists per-channel metrics with columns `channel` and `segment_index`."
   ]
  }
 ],
 "metadata": {
  "kernelspec": {
   "display_name": "Python 3",
   "language": "python",
   "name": "python3"
  },
  "language_info": {
   "name": "python"
  }
 },
 "nbformat": 4,
 "nbformat_minor": 5
}
