{
 "cells": [
  {
   "cell_type": "markdown",
   "metadata": {},
   "source": [
    "# Blink Features from MNE Epochs\n",
    "\n",
    "This notebook shows how to compute blink features every 30 seconds when your data is already segmented into `mne.Epochs`. We still rely on the sample `ear_eog.fif` file." 
   ]
  },
  {
   "cell_type": "code",
   "metadata": {},
   "execution_count": null,
   "outputs": [],
   "source": [
    "from pathlib import Path\n",
    "import mne\n",
    "from tqdm import tqdm\n",
    "\n",
    "from pyear.pipeline import extract_features"
   ]
  },
  {
   "cell_type": "markdown",
   "metadata": {},
   "source": [
    "## 1. Create Epochs from the raw recording"
   ]
  },
  {
   "cell_type": "code",
   "metadata": {},
   "execution_count": null,
   "outputs": [],
   "source": [
    "fif_path = Path(\"../unitest/ear_eog.fif\")\n",
    "raw = mne.io.read_raw_fif(fif_path, preload=True)\n",
    "events = mne.make_fixed_length_events(raw, id=1, duration=30.0)\n",
    "epochs = mne.Epochs(raw, events, tmin=0.0, tmax=30.0 - 1.0 / raw.info[\"sfreq\"], baseline=None, preload=True)"
   ]
  },
  {
   "cell_type": "markdown",
   "metadata": {},
   "source": [
    "## 2. Convert blink annotations to dictionaries"
   ]
  },
  {
   "cell_type": "code",
   "metadata": {},
   "execution_count": null,
   "outputs": [],
   "source": [
    "sfreq = raw.info[\"sfreq\"]\n",
    "epoch_len = 30.0\n",
    "n_epochs = len(epochs)\n",
    "ann = raw.annotations\n",
    "blinks = []\n",
    "start_times = epochs.events[:, 0] / sfreq + epochs.tmin\n",
    "for idx, start in enumerate(start_times):\n",
    "    stop = start + epoch_len\n",
    "    signal = epochs.get_data(picks=\"EAR-avg_ear\")[idx, 0]\n",
    "    for onset, dur, desc in zip(ann.onset, ann.duration, ann.description):\n",
    "        if desc != 'blink':\n",
    "            continue\n",
    "        if onset >= start and onset + dur <= stop:\n",
    "            s = int((onset - start) * sfreq)\n",
    "            e = int((onset + dur - start) * sfreq)\n",
    "            blinks.append({'refined_start_frame': s,\n",
    "                           'refined_peak_frame': (s + e) // 2,\n",
    "                           'refined_end_frame': e,\n",
    "                           'epoch_signal': signal,\n",
    "                           'epoch_index': idx})"
   ]
  },
  {
   "cell_type": "markdown",
   "metadata": {},
   "source": [
    "## 3. Compute features"
   ]
  },
  {
   "cell_type": "code",
   "metadata": {},
   "execution_count": null,
   "outputs": [],
   "source": [
    "df = extract_features(blinks, sfreq, epoch_len, n_epochs)\n",
    "df.head()"
   ]
  }
 ],
 "metadata": {
  "kernelspec": {
   "display_name": "Python 3",
   "language": "python",
   "name": "python3"
  },
  "language_info": {
   "name": "python",
   "version": "3.12"
  }
 },
 "nbformat": 4,
 "nbformat_minor": 5
}
